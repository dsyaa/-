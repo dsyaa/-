{
 "cells": [
  {
   "cell_type": "markdown",
   "id": "897d006e",
   "metadata": {},
   "source": [
    "# github_dataset"
   ]
  },
  {
   "cell_type": "markdown",
   "id": "598adbf8",
   "metadata": {},
   "source": [
    "首先，我们需要导入我们需要的使用的库，这里我们主要使用python中进行科学处理的数据库，主要包含numpy库和pandas库。仅仅使数据这两个库是不够的，我们还需要对数据进行可视化，我们使用matplotlib中的pyplot库和seaborn库，由于我们需要对数据处理部分进行填补处理。这里我们主要使用KNNImputer库和LinerRegression库。不过我们也要根据数据集进行选择，有一部分数据集的缺失数据可能是一些标称属性的，不太适合使用这种模型，我们这里是预先把我们可能使用到的库都预先导入进来了。"
   ]
  },
  {
   "cell_type": "code",
   "execution_count": 3,
   "id": "0baf6858",
   "metadata": {},
   "outputs": [],
   "source": [
    "import numpy as np\n",
    "import pandas as pd\n",
    "import matplotlib.pyplot as plt\n",
    "import seaborn as sns\n",
    "from sklearn.impute  import KNNImputer\n",
    "from sklearn.linear_model import LinearRegression"
   ]
  },
  {
   "cell_type": "markdown",
   "id": "eb2b103d",
   "metadata": {},
   "source": [
    "首先需要导入github数据集中的两个文件，分别是github_data.csv和repository_data.csv。我们首先把文件上传到jupyter当地上，使用pd.read_csv（）函数进行读写，需要注意的是我们要把路径写对（路径前面记得加引号),数据集太大，我们可以分别展示两个数据集的头部，并且看一下数据集的大小。"
   ]
  },
  {
   "cell_type": "code",
   "execution_count": 7,
   "id": "7b11f468",
   "metadata": {},
   "outputs": [
    {
     "name": "stdout",
     "output_type": "stream",
     "text": [
      "githubdata 数据集\n",
      "                repositories  stars_count  forks_count  issues_count  \\\n",
      "0        octocat/Hello-World            0            0           612   \n",
      "1  EddieHubCommunity/support          271          150           536   \n",
      "2             ethereum/aleth            0            0           313   \n",
      "3      localstack/localstack            0            0           290   \n",
      "4        education/classroom            0          589           202   \n",
      "\n",
      "   pull_requests  contributors language  \n",
      "0            316             2      NaN  \n",
      "1              6            71      NaN  \n",
      "2             27           154      C++  \n",
      "3             30           434   Python  \n",
      "4             22            67     Ruby  \n",
      "repository 数据集\n",
      "                          name  stars_count  forks_count  watchers  \\\n",
      "0                 freeCodeCamp       359805        30814      8448   \n",
      "1                      996.ICU       264811        21470      4298   \n",
      "2       free-programming-books       262380        53302      9544   \n",
      "3  coding-interview-university       244927        65038      8539   \n",
      "4                      awesome       235223        24791      7446   \n",
      "\n",
      "   pull_requests primary_language  \\\n",
      "0          31867       TypeScript   \n",
      "1           1949              NaN   \n",
      "2           8235              NaN   \n",
      "3            867              NaN   \n",
      "4           1859              NaN   \n",
      "\n",
      "                                      languages_used  commit_count  \\\n",
      "0  ['TypeScript', 'JavaScript', 'CSS', 'Shell', '...       32231.0   \n",
      "1                                                NaN        3189.0   \n",
      "2                                                NaN        8286.0   \n",
      "3                                                NaN        2314.0   \n",
      "4                                                NaN        1074.0   \n",
      "\n",
      "             created_at                                            licence  \n",
      "0  2014-12-24T17:49:19Z            BSD 3-Clause \"New\" or \"Revised\" License  \n",
      "1  2019-03-26T07:31:14Z                                              Other  \n",
      "2  2013-10-11T06:50:37Z                                              Other  \n",
      "3  2016-06-06T02:34:12Z  Creative Commons Attribution Share Alike 4.0 I...  \n",
      "4  2014-07-11T13:42:37Z               Creative Commons Zero v1.0 Universal  \n",
      "githubdata 数据集大小 (1052, 7)\n",
      "repository 数据集大小 (2917951, 10)\n"
     ]
    }
   ],
   "source": [
    "path1= './mine data/github data/github_dataset.csv'\n",
    "path2= './mine data/github data/repository_data.csv'\n",
    "githubdata=pd.read_csv(path1)\n",
    "repositorydata=pd.read_csv(path2)\n",
    "#我们查看每个数据集前面的几组数据，简单了解一下整个数据集的属性及其数值类型\n",
    "print(\"githubdata 数据集\")\n",
    "print(githubdata.head())\n",
    "print(\"repository 数据集\")\n",
    "print(repositorydata.head())\n",
    "#看一下数据的大小\n",
    "print(\"githubdata 数据集大小\",githubdata.shape)\n",
    "print(\"repository 数据集大小\",repositorydata.shape)"
   ]
  },
  {
   "cell_type": "markdown",
   "id": "3d8279b8",
   "metadata": {},
   "source": [
    "数据摘要和可视化\n",
    "数据摘要部分我们对标称属性，给出每个可能取值的频数，对数值属性，给出5数概括及缺失值的个数。对于两个文件，处理情况原理相同，为了方便展示我们以github_dataset数据集为例，在这个文件中，标称属性包括repositories和language,这里经过查询python中的函数，我们可以使用python中的value_counts()函数直接进行统计。数值属性包括stars_count,forks_count,issues_count,pull_requests,contributors属性，针对这些属性我们利用describe函数进行5数概括，以及使用isnull()和sum()函数进行统计。"
   ]
  },
  {
   "cell_type": "code",
   "execution_count": 10,
   "id": "f09ce001",
   "metadata": {},
   "outputs": [
    {
     "name": "stdout",
     "output_type": "stream",
     "text": [
      "标称属性的统计量\n",
      "kameshsampath/ansible-role-rosa-demos         2\n",
      "aloisdeniel/bluff                             2\n",
      "antoniaandreou/github-slideshow               2\n",
      "jgthms/bulma-start                            2\n",
      "artkirienko/hlds-docker-dproto                2\n",
      "                                             ..\n",
      "WhiteHouse/CIOmanagement                      1\n",
      "0xCaso/defillama-telegram-bot                 1\n",
      "ethereum/blake2b-py                           1\n",
      "openfoodfacts/folksonomy_mobile_experiment    1\n",
      "gamemann/All_PropHealth                       1\n",
      "Name: repositories, Length: 972, dtype: int64\n",
      "JavaScript          253\n",
      "Python              155\n",
      "HTML                 72\n",
      "Java                 44\n",
      "CSS                  37\n",
      "TypeScript           37\n",
      "Dart                 36\n",
      "C++                  29\n",
      "Jupyter Notebook     29\n",
      "Ruby                 28\n",
      "C                    26\n",
      "Shell                25\n",
      "PHP                  16\n",
      "Go                   15\n",
      "Rust                 10\n",
      "Swift                10\n",
      "C#                    8\n",
      "Objective-C           8\n",
      "Kotlin                7\n",
      "Makefile              6\n",
      "Jinja                 5\n",
      "SCSS                  4\n",
      "CoffeeScript          3\n",
      "Perl                  3\n",
      "Dockerfile            3\n",
      "Solidity              3\n",
      "AutoHotkey            3\n",
      "Hack                  2\n",
      "Pawn                  2\n",
      "CodeQL                2\n",
      "PowerShell            2\n",
      "Assembly              2\n",
      "Vim Script            2\n",
      "Vue                   2\n",
      "Elixir                2\n",
      "Gherkin               1\n",
      "QMake                 1\n",
      "CMake                 1\n",
      "Oz                    1\n",
      "Cuda                  1\n",
      "QML                   1\n",
      "ActionScript          1\n",
      "Roff                  1\n",
      "HCL                   1\n",
      "R                     1\n",
      "PureBasic             1\n",
      "Smarty                1\n",
      "Less                  1\n",
      "Svelte                1\n",
      "Haskell               1\n",
      "SourcePawn            1\n",
      "Name: language, dtype: int64\n",
      "数值属性的统计量\n",
      "       stars_count  forks_count  issues_count  pull_requests  contributors\n",
      "count  1052.000000  1052.000000   1052.000000    1052.000000   1052.000000\n",
      "mean     81.976236    53.884981      8.656844       4.374525      8.364068\n",
      "std     170.403116   127.699729     32.445154      27.913732     37.511807\n",
      "min       0.000000     0.000000      1.000000       0.000000      0.000000\n",
      "25%       1.000000     1.000000      1.000000       0.000000      0.000000\n",
      "50%      12.000000     6.000000      2.000000       0.000000      2.000000\n",
      "75%      65.250000    38.250000      6.000000       2.000000      4.000000\n",
      "max     995.000000   973.000000    612.000000     567.000000    658.000000\n",
      "各个属性的缺失值\n",
      "repositories       0\n",
      "stars_count        0\n",
      "forks_count        0\n",
      "issues_count       0\n",
      "pull_requests      0\n",
      "contributors       0\n",
      "language         145\n",
      "dtype: int64\n"
     ]
    }
   ],
   "source": [
    "#标称属性\n",
    "print(\"标称属性的统计量\")\n",
    "print(githubdata['repositories'].value_counts())\n",
    "print(githubdata['language'].value_counts())\n",
    "\n",
    "#数值属性\n",
    "print(\"数值属性的统计量\")\n",
    "print(githubdata.describe())\n",
    "\n",
    "#缺失值\n",
    "print(\"各个属性的缺失值\")\n",
    "print(githubdata.isnull().sum())"
   ]
  },
  {
   "cell_type": "markdown",
   "id": "ce9c940f",
   "metadata": {},
   "source": [
    "可视化\n",
    "对于数据可视化部分我们数值属性进行统计，我们这里对stars_count和forks_count这两个属性进行可视化。我们使用histplot()和boxplot()函数对这两个属性进行直方图和盒图的描述，来整体观看数据的分布。对于最后图的展示，我们将区域分成四块，将数据集的两个属性的两种不同的图分别放在四个不同的区域中。"
   ]
  },
  {
   "cell_type": "code",
   "execution_count": 12,
   "id": "4c2a429a",
   "metadata": {},
   "outputs": [
    {
     "data": {
      "image/png": "[encoded data removed]",
      "text/plain": [
       "<Figure size 864x576 with 4 Axes>"
      ]
     },
     "metadata": {
      "needs_background": "light"
     },
     "output_type": "display_data"
    }
   ],
   "source": [
    "fig, axes = plt.subplots(2, 2, figsize=(12, 8))\n",
    "sns.histplot(ax=axes[0, 0], data=githubdata, x='stars_count')\n",
    "sns.boxplot(ax=axes[0, 1], data=githubdata, y='stars_count')\n",
    "sns.histplot(ax=axes[1, 0], data=githubdata, x='forks_count')\n",
    "sns.boxplot(ax=axes[1, 1], data=githubdata, y='forks_count')\n",
    "plt.show()"
   ]
  },
  {
   "cell_type": "markdown",
   "id": "e7506a24",
   "metadata": {},
   "source": [
    "数据缺失的处理\n",
    "对于数据缺失的处理，我们观察数据集中缺失数据，分析其缺失的原因。分别使用下列四种策略对缺失值进行处理:\n",
    "1.将缺失部分剔除\n",
    "2.用最高频率值来填补缺失值\n",
    "3.通过属性的相关关系来填补缺失值\n",
    "4.通过数据对象之间的相似性来填补缺失值\n",
    "对于这个数据集，因为只有language这一个属性值有确实，我们分析来看，这种语言的种类只是上传者没有标记，并不能通过如stars_count,forks_count等属性推断出语言的种类，换句话说，language和其他属性没有必然的联系，没有模型可以建立。因此我们主要使用前两种方法来填补缺失值。"
   ]
  },
  {
   "cell_type": "code",
   "execution_count": 13,
   "id": "5c8dd795",
   "metadata": {},
   "outputs": [
    {
     "name": "stdout",
     "output_type": "stream",
     "text": [
      "缺失个数\n",
      "repositories       0\n",
      "stars_count        0\n",
      "forks_count        0\n",
      "issues_count       0\n",
      "pull_requests      0\n",
      "contributors       0\n",
      "language         145\n",
      "dtype: int64\n",
      "策略一后的数据集\n",
      "repositories     0\n",
      "stars_count      0\n",
      "forks_count      0\n",
      "issues_count     0\n",
      "pull_requests    0\n",
      "contributors     0\n",
      "language         0\n",
      "dtype: int64\n",
      "策略二后的数据集\n",
      "repositories     0\n",
      "stars_count      0\n",
      "forks_count      0\n",
      "issues_count     0\n",
      "pull_requests    0\n",
      "contributors     0\n",
      "language         0\n",
      "dtype: int64\n"
     ]
    }
   ],
   "source": [
    "#策略1：直接去除\n",
    "githubdata_dropna = githubdata.dropna()\n",
    "\n",
    "# 缺失值处理策略2：用最高频率值来填补缺失值\n",
    "githubdata_fillna_mode = githubdata.fillna(githubdata.mode().iloc[0])\n",
    "\n",
    "\n",
    "# 对比新旧数据集的差异\n",
    "print(\"缺失个数\")\n",
    "print(githubdata.isna().sum())\n",
    "print(\"策略一后的数据集\")\n",
    "print(githubdata_dropna.isna().sum())\n",
    "print(\"策略二后的数据集\")\n",
    "print(githubdata_fillna_mode.isna().sum())"
   ]
  },
  {
   "cell_type": "markdown",
   "id": "91319baf",
   "metadata": {},
   "source": [
    "# movies_dataset"
   ]
  },
  {
   "cell_type": "markdown",
   "id": "425b8060",
   "metadata": {},
   "source": [
    "同样，我们和处理第一个数据集一样，首先导入我们需要的数据库，我们和第一个数据集中导入的数据库是一样的，主要包括数据处理的核心库和用来可视化的一些库。"
   ]
  },
  {
   "cell_type": "code",
   "execution_count": 15,
   "id": "81d1e6f7",
   "metadata": {},
   "outputs": [],
   "source": [
    "import numpy as np\n",
    "import pandas as pd\n",
    "import matplotlib.pyplot as plt\n",
    "import seaborn as sns\n",
    "from sklearn.impute  import KNNImputer\n",
    "from sklearn.linear_model import LinearRegression"
   ]
  },
  {
   "cell_type": "markdown",
   "id": "37d74962",
   "metadata": {},
   "source": [
    "本数据集movie_dataset包含来自好莱坞，宝莱坞，动漫等所有行业的20，000 +电影。主要包括\n",
    "id: 电影的唯一ID\n",
    "title: 电影的名称\n",
    "storyline: 电影的简短描述\n",
    "views: 每部电影的点击次数\n",
    "downloads:每部电影的下载次数\n",
    "IMDb-rating: 评分\n",
    "appropriate_for: 适用于，有R-rated, PG-13等等级\n",
    "language: 语言\n",
    "industry: 出版商\n",
    "posted_date: 平台发布时间\n",
    "release_date: 发行时间\n",
    "runtime: 时间\n",
    "director: 导演\n",
    "writer:作家\n",
    "使用pd.read_csv（）函数进行读写，需要注意的是我们要把路径写对（路径前面记得加引号),数据集太大，我们可以分别展示两个数据集的头部，并且看一下数据集的大小。"
   ]
  },
  {
   "cell_type": "code",
   "execution_count": 18,
   "id": "9ad85c8b",
   "metadata": {
    "scrolled": true
   },
   "outputs": [
    {
     "name": "stdout",
     "output_type": "stream",
     "text": [
      "   Unnamed: 0  IMDb-rating appropriate_for      director downloads      id  \\\n",
      "0           0          4.8               R     John Swab       304  372092   \n",
      "1           1          6.4           TV-PG   Paul Ziller        73  372091   \n",
      "2           2          5.2               R  Ben Wheatley     1,427  343381   \n",
      "3           3          8.1             NaN  Venky Atluri     1,549  372090   \n",
      "4           4          4.6             NaN  Shaji Kailas       657  372089   \n",
      "\n",
      "              industry       language   posted_date release_date  run_time  \\\n",
      "0  Hollywood / English        English  20 Feb, 2023  Jan 28 2023       105   \n",
      "1  Hollywood / English        English  20 Feb, 2023  Feb 05 2023        84   \n",
      "2  Hollywood / English  English,Hindi  20 Apr, 2021  Jun 18 2021  1h 47min   \n",
      "3            Tollywood          Hindi  20 Feb, 2023  Feb 17 2023       139   \n",
      "4            Tollywood          Hindi  20 Feb, 2023  Jan 26 2023       122   \n",
      "\n",
      "                                           storyline  \\\n",
      "0  Doc\\r\\n facilitates a fragile truce between th...   \n",
      "1  Caterer\\r\\n Goldy Berry reunites with detectiv...   \n",
      "2  As the world searches for a cure to a disastro...   \n",
      "3  The life of a young man and his struggles agai...   \n",
      "4  A man named Kalidas gets stranded due to the p...   \n",
      "\n",
      "                                        title   views                  writer  \n",
      "0                                Little Dixie   2,794               John Swab  \n",
      "1  Grilling Season: A Curious Caterer Mystery   1,002  John Christian Plummer  \n",
      "2                                In the Earth  14,419            Ben Wheatley  \n",
      "3                                      Vaathi   4,878            Venky Atluri  \n",
      "4                                       Alone   2,438        Rajesh Jayaraman  \n",
      "(20548, 15)\n",
      "<class 'pandas.core.frame.DataFrame'>\n"
     ]
    }
   ],
   "source": [
    "path3 = './mine data/movie/movies_dataset.csv'\n",
    "movie_data = pd.read_csv(path3)\n",
    "#展示头部\n",
    "print(movie_data.head())\n",
    "\n",
    "#展示大小\n",
    "print(movie_data.shape)\n",
    "#展示数据类型\n",
    "print(type(movie_data))"
   ]
  },
  {
   "cell_type": "markdown",
   "id": "c72a1e7e",
   "metadata": {},
   "source": [
    "# 数据摘要和数据可视化"
   ]
  },
  {
   "cell_type": "markdown",
   "id": "0a7ee131",
   "metadata": {},
   "source": [
    "数据摘要部分我们对标称属性，给出每个可能取值的频数，对数值属性，给出5数概括及缺失值的个数。，在这个文件中，标称属性appropriate_for，director,language，industry等这里经过查询python中的函数，我们可以使用python中的value_counts()函数直接进行统计。数值属性包括IMD-rating,downlaod和views属性，针对这些属性我们利用describe函数进行5数概括，以及使用isnull()和sum()函数进行统计。"
   ]
  },
  {
   "cell_type": "code",
   "execution_count": 23,
   "id": "c82cb857",
   "metadata": {},
   "outputs": [
    {
     "name": "stdout",
     "output_type": "stream",
     "text": [
      "Unnamed: 0            0\n",
      "IMDb-rating         841\n",
      "appropriate_for    9476\n",
      "director           1938\n",
      "downloads             1\n",
      "id                    0\n",
      "industry              1\n",
      "language            542\n",
      "posted_date           1\n",
      "release_date          1\n",
      "run_time           1768\n",
      "storyline          1701\n",
      "title                 1\n",
      "views                 1\n",
      "writer             2192\n",
      "dtype: int64\n"
     ]
    }
   ],
   "source": [
    "print(movie_data.isnull().sum())"
   ]
  },
  {
   "cell_type": "code",
   "execution_count": 20,
   "id": "2fffee72",
   "metadata": {},
   "outputs": [
    {
     "name": "stdout",
     "output_type": "stream",
     "text": [
      "appropriate_for统计量\n",
      "R                 4384\n",
      "Not Rated         2142\n",
      "PG-13             1968\n",
      "PG                 886\n",
      "TV-14              694\n",
      "TV-MA              406\n",
      "G                  152\n",
      "Unrated            132\n",
      "TV-PG              115\n",
      "TV-G                99\n",
      "TV-Y7               45\n",
      "TV-Y                25\n",
      "Approved             9\n",
      "NC-17                4\n",
      "TV-Y7-FV             3\n",
      "Passed               3\n",
      "MA-17                1\n",
      "TV-13                1\n",
      "Drama                1\n",
      "Drama, Romance       1\n",
      "18+                  1\n",
      "Name: appropriate_for, dtype: int64\n",
      "director统计量\n",
      "Venky Atluri                                  405\n",
      "Simone Stock                                  403\n",
      "Xavier Manrique                               403\n",
      "John Swab                                     205\n",
      "Neil Jordan                                   205\n",
      "                                             ... \n",
      "Agnieszka Smoczynska                            1\n",
      "Dylan Thomas Ellis                              1\n",
      "Sunil Thakur, Sunil Dhawan, Shivani Thakur      1\n",
      "Suman Mukhopadhyay                              1\n",
      "Shea Sizemore                                   1\n",
      "Name: director, Length: 9672, dtype: int64\n",
      "language统计量\n",
      "English                                 12657\n",
      "Hindi                                    2558\n",
      "English,Spanish                           391\n",
      "Punjabi                                   310\n",
      "English,Hindi                             304\n",
      "                                        ...  \n",
      "English,Korean,Spanish                      1\n",
      "Norwegian,Swedish                           1\n",
      "Spanish,Chinese,English,Maori,French        1\n",
      "Urdu,Punjabi,English                        1\n",
      "Spanish,German,English                      1\n",
      "Name: language, Length: 1168, dtype: int64\n",
      "industry统计量\n",
      "Hollywood / English    14649\n",
      "Bollywood / Indian      2645\n",
      "Tollywood               1172\n",
      "Anime / Kids            1049\n",
      "Wrestling                433\n",
      "Punjabi                  332\n",
      "Stage shows              129\n",
      "Pakistani                 92\n",
      "Dub / Dual Audio          45\n",
      "3D Movies                  1\n",
      "Name: industry, dtype: int64\n"
     ]
    }
   ],
   "source": [
    "print('appropriate_for统计量')\n",
    "print(movie_data['appropriate_for'].value_counts())\n",
    "\n",
    "print('director统计量')\n",
    "print(movie_data['director'].value_counts())\n",
    "\n",
    "print('language统计量')\n",
    "print(movie_data['language'].value_counts())\n",
    "\n",
    "print('industry统计量')\n",
    "print(movie_data['industry'].value_counts())\n"
   ]
  },
  {
   "cell_type": "markdown",
   "id": "5701826d",
   "metadata": {},
   "source": [
    "对于数值属性，我们先用describle()函数进行统计一下"
   ]
  },
  {
   "cell_type": "code",
   "execution_count": 21,
   "id": "105f7fdf",
   "metadata": {},
   "outputs": [
    {
     "data": {
      "text/html": [
       "<div>\n",
       "<style scoped>\n",
       "    .dataframe tbody tr th:only-of-type {\n",
       "        vertical-align: middle;\n",
       "    }\n",
       "\n",
       "    .dataframe tbody tr th {\n",
       "        vertical-align: top;\n",
       "    }\n",
       "\n",
       "    .dataframe thead th {\n",
       "        text-align: right;\n",
       "    }\n",
       "</style>\n",
       "<table border=\"1\" class=\"dataframe\">\n",
       "  <thead>\n",
       "    <tr style=\"text-align: right;\">\n",
       "      <th></th>\n",
       "      <th>Unnamed: 0</th>\n",
       "      <th>IMDb-rating</th>\n",
       "      <th>id</th>\n",
       "    </tr>\n",
       "  </thead>\n",
       "  <tbody>\n",
       "    <tr>\n",
       "      <th>count</th>\n",
       "      <td>20548.000000</td>\n",
       "      <td>19707.000000</td>\n",
       "      <td>20548.000000</td>\n",
       "    </tr>\n",
       "    <tr>\n",
       "      <th>mean</th>\n",
       "      <td>10273.500000</td>\n",
       "      <td>5.762151</td>\n",
       "      <td>222351.199776</td>\n",
       "    </tr>\n",
       "    <tr>\n",
       "      <th>std</th>\n",
       "      <td>5931.841001</td>\n",
       "      <td>1.374041</td>\n",
       "      <td>138422.327931</td>\n",
       "    </tr>\n",
       "    <tr>\n",
       "      <th>min</th>\n",
       "      <td>0.000000</td>\n",
       "      <td>1.100000</td>\n",
       "      <td>1.000000</td>\n",
       "    </tr>\n",
       "    <tr>\n",
       "      <th>25%</th>\n",
       "      <td>5136.750000</td>\n",
       "      <td>4.800000</td>\n",
       "      <td>96122.250000</td>\n",
       "    </tr>\n",
       "    <tr>\n",
       "      <th>50%</th>\n",
       "      <td>10273.500000</td>\n",
       "      <td>5.700000</td>\n",
       "      <td>264457.500000</td>\n",
       "    </tr>\n",
       "    <tr>\n",
       "      <th>75%</th>\n",
       "      <td>15410.250000</td>\n",
       "      <td>6.600000</td>\n",
       "      <td>354561.250000</td>\n",
       "    </tr>\n",
       "    <tr>\n",
       "      <th>max</th>\n",
       "      <td>20547.000000</td>\n",
       "      <td>9.900000</td>\n",
       "      <td>372092.000000</td>\n",
       "    </tr>\n",
       "  </tbody>\n",
       "</table>\n",
       "</div>"
      ],
      "text/plain": [
       "         Unnamed: 0   IMDb-rating             id\n",
       "count  20548.000000  19707.000000   20548.000000\n",
       "mean   10273.500000      5.762151  222351.199776\n",
       "std     5931.841001      1.374041  138422.327931\n",
       "min        0.000000      1.100000       1.000000\n",
       "25%     5136.750000      4.800000   96122.250000\n",
       "50%    10273.500000      5.700000  264457.500000\n",
       "75%    15410.250000      6.600000  354561.250000\n",
       "max    20547.000000      9.900000  372092.000000"
      ]
     },
     "execution_count": 21,
     "metadata": {},
     "output_type": "execute_result"
    }
   ],
   "source": [
    "movie_data.describe()"
   ]
  },
  {
   "cell_type": "markdown",
   "id": "e5830447",
   "metadata": {},
   "source": [
    "我们在这里发现，这个函数只统计出了unname:0,IMDb_rating,id这三个属性的五数概括，猜测原因是原先的数据集中格式有一些问题，经过测试，确实如此，这个数据集中有些看似是数字的，但是存储形式是字符串，所以我们要进行一步转化，这里我们使用to_numeric()函数将字符转换成数字，但是在这个过程中又遇到了问题，因为超过四位数的数字如1,258这种会有‘，’的出现，所以我们需要将逗号去掉，用str.replace(',','')来将其进行替换。由于这几个过程比较相似，就以downloads为例展示。"
   ]
  },
  {
   "cell_type": "code",
   "execution_count": 25,
   "id": "6f9fb760",
   "metadata": {},
   "outputs": [
    {
     "name": "stdout",
     "output_type": "stream",
     "text": [
      "count     20547.000000\n",
      "mean      10795.238916\n",
      "std       23716.181987\n",
      "min           0.000000\n",
      "25%         855.500000\n",
      "50%        2716.000000\n",
      "75%       10070.000000\n",
      "max      391272.000000\n",
      "Name: downloads, dtype: float64\n"
     ]
    }
   ],
   "source": [
    "downdata=movie_data['downloads']\n",
    "downdatanum=pd.to_numeric(downdata.str.replace(',',''))\n",
    "print(downdatanum.describe())"
   ]
  },
  {
   "cell_type": "code",
   "execution_count": 27,
   "id": "b8906731",
   "metadata": {},
   "outputs": [
    {
     "data": {
      "image/png": "[encoded data removed]",
      "text/plain": [
       "<Figure size 864x576 with 4 Axes>"
      ]
     },
     "metadata": {
      "needs_background": "light"
     },
     "output_type": "display_data"
    }
   ],
   "source": [
    "fig1, axes1 = plt.subplots(2, 2, figsize=(12, 8))\n",
    "sns.histplot(ax=axes1[0, 0], data=movie_data, x='IMDb-rating')\n",
    "sns.boxplot(ax=axes1[0, 1], data=movie_data, y='IMDb-rating')\n",
    "sns.histplot(ax=axes1[1, 0], data=downdatanum, )\n",
    "sns.boxplot(ax=axes1[1, 1], data=downdatanum, )\n",
    "plt.show()"
   ]
  },
  {
   "cell_type": "markdown",
   "id": "094098d9",
   "metadata": {},
   "source": [
    "# 数据缺失处理"
   ]
  },
  {
   "cell_type": "markdown",
   "id": "549a65d9",
   "metadata": {},
   "source": [
    "数据缺失的处理 对于数据缺失的处理，我们观察数据集中缺失数据，分析其缺失的原因。分别使用下列四种策略对缺失值进行处理: 1.将缺失部分剔除 2.用最高频率值来填补缺失值 3.通过属性的相关关系来填补缺失值 4.通过数据对象之间的相似性来填补缺失值 对于这个数据集，前两种方法是肯定可以使用的，另外，我们也可以认为电影的下载量越高，电影的评价越高，所以我们可以它们之间的相关关系来填补空缺值。"
   ]
  },
  {
   "cell_type": "code",
   "execution_count": 29,
   "id": "1c53ade9",
   "metadata": {},
   "outputs": [
    {
     "name": "stdout",
     "output_type": "stream",
     "text": [
      "缺失个数\n",
      "Unnamed: 0            0\n",
      "IMDb-rating         841\n",
      "appropriate_for    9476\n",
      "director           1938\n",
      "downloads             1\n",
      "id                    0\n",
      "industry              1\n",
      "language            542\n",
      "posted_date           1\n",
      "release_date          1\n",
      "run_time           1768\n",
      "storyline          1701\n",
      "title                 1\n",
      "views                 1\n",
      "writer             2192\n",
      "dtype: int64\n",
      "策略一后的数据集\n",
      "Unnamed: 0         0\n",
      "IMDb-rating        0\n",
      "appropriate_for    0\n",
      "director           0\n",
      "downloads          0\n",
      "id                 0\n",
      "industry           0\n",
      "language           0\n",
      "posted_date        0\n",
      "release_date       0\n",
      "run_time           0\n",
      "storyline          0\n",
      "title              0\n",
      "views              0\n",
      "writer             0\n",
      "dtype: int64\n",
      "策略二后的数据集\n",
      "Unnamed: 0         0\n",
      "IMDb-rating        0\n",
      "appropriate_for    0\n",
      "director           0\n",
      "downloads          0\n",
      "id                 0\n",
      "industry           0\n",
      "language           0\n",
      "posted_date        0\n",
      "release_date       0\n",
      "run_time           0\n",
      "storyline          0\n",
      "title              0\n",
      "views              0\n",
      "writer             0\n",
      "dtype: int64\n"
     ]
    }
   ],
   "source": [
    "#策略1 缺失部分剔除\n",
    "movie_data_dropna = movie_data.dropna()\n",
    "\n",
    "#策略2 用最高频率值来填补缺失值\n",
    "movie_data_fillna_mode = movie_data.fillna(movie_data.mode().iloc[0])\n",
    "\n",
    "#展示前后变化\n",
    "# 对比新旧数据集的差异\n",
    "print(\"缺失个数\")\n",
    "print(movie_data.isna().sum())\n",
    "print(\"策略一后的数据集\")\n",
    "print(movie_data_dropna.isna().sum())\n",
    "print(\"策略二后的数据集\")\n",
    "print(movie_data_fillna_mode.isna().sum())"
   ]
  },
  {
   "cell_type": "markdown",
   "id": "25a4f5ec",
   "metadata": {},
   "source": [
    "第三中策略我们只针对downloads属性和IMDb-rating属性，我们使用线性回归模型对两个变量之间的关系进行模拟。"
   ]
  },
  {
   "cell_type": "code",
   "execution_count": 34,
   "id": "e045296e",
   "metadata": {},
   "outputs": [
    {
     "name": "stdout",
     "output_type": "stream",
     "text": [
      "<class 'pandas.core.series.Series'>\n",
      "(20548,)\n",
      "(20548,)\n",
      "downloads          0\n",
      "IMDb-rating        0\n"
     ]
    }
   ],
   "source": [
    "s1=movie_data['downloads']\n",
    "s2=movie_data['IMDb-rating']\n",
    "s3=s1.tolist()\n",
    "s4=s2.tolist()\n",
    "print(type(s1))\n",
    "print(s1.shape)\n",
    "print(s2.shape)\n",
    "\n",
    "data1=train1[['downloads','IMDb-rating']]\n",
    "print(type(data1))\n",
    "print(type(data1['downloads']))\n",
    "print(type(data1['IMDb-rating']))\n",
    "data_pred = data1[np.isnan(data1['IMDb-rating'])]\n",
    "known_price=data1[data1.(IMDb-rating).notnull()].values\n",
    "y = known_price[:, 0] \n",
    "x = known_price[:, 1:]  \n",
    "line_reg = LinearRegression()\n",
    "line_reg.fit(x, y)\n",
    "data_pred['IMDb-rating'] = line_reg.predict(data_pred['downloads'].values.reshape(-1, 1))\n",
    "#print(\"-----test-----\")\n",
    "#print(data_pred['price'].type)\n",
    "data1.loc[(data1.price.isnull()), 'IMDb-rating'] = data_pred['IMDb-rating']\n",
    "#print(\"-----test-----\")\n",
    "#print(data1.loc[(data1.price.isnull()), 'price'])\n",
    "print(data1.shape)\n",
    "print(data1.isnull().sum())"
   ]
  },
  {
   "cell_type": "code",
   "execution_count": null,
   "id": "51d0ccdb",
   "metadata": {},
   "outputs": [],
   "source": [
    "\n",
    "\n",
    "\n",
    "\n",
    "\n",
    "\n",
    "\n",
    "\n",
    "\n",
    "\n",
    "\n",
    "\n",
    "\n",
    "\n",
    "\n",
    "\n",
    "\n",
    "\n",
    "\n",
    "\n",
    "\n",
    "\n",
    "\n",
    "\n",
    "\n",
    "\n"
   ]
  }
 ],
 "metadata": {
  "kernelspec": {
   "display_name": "Python 3 (ipykernel)",
   "language": "python",
   "name": "python3"
  },
  "language_info": {
   "codemirror_mode": {
    "name": "ipython",
    "version": 3
   },
   "file_extension": ".py",
   "mimetype": "text/x-python",
   "name": "python",
   "nbconvert_exporter": "python",
   "pygments_lexer": "ipython3",
   "version": "3.9.7"
  }
 },
 "nbformat": 4,
 "nbformat_minor": 5
}
